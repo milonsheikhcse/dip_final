{
 "cells": [
  {
   "cell_type": "code",
   "execution_count": 1,
   "id": "08dbe17e",
   "metadata": {},
   "outputs": [
    {
     "name": "stdout",
     "output_type": "stream",
     "text": [
      "<class 'numpy.ndarray'>\n",
      "(325, 326, 3)\n"
     ]
    },
    {
     "data": {
      "text/plain": [
       "True"
      ]
     },
     "execution_count": 1,
     "metadata": {},
     "output_type": "execute_result"
    }
   ],
   "source": [
    "# https://note.nkmk.me/en/python-opencv-numpy-rotate-flip/\n",
    "\n",
    "import cv2\n",
    "\n",
    "img = cv2.imread(\"image/hitlar.JPG\")\n",
    "print(type(img))\n",
    "# <class 'numpy.ndarray'>\n",
    "\n",
    "print(img.shape)\n",
    "# (225, 400, 3)\n",
    "\n",
    "img_rotate_90_clockwise = cv2.rotate(img, cv2.ROTATE_90_CLOCKWISE)\n",
    "cv2.imwrite('image5_rotate/lena_cv_rotate_90_clockwise.jpg', img_rotate_90_clockwise)\n",
    "# True\n",
    "\n",
    "img_rotate_90_counterclockwise = cv2.rotate(img, cv2.ROTATE_90_COUNTERCLOCKWISE)\n",
    "cv2.imwrite('image5_rotate/lena_cv_rotate_90_counterclockwise.jpg', img_rotate_90_counterclockwise)\n",
    "# True\n",
    "\n",
    "img_rotate_180 = cv2.rotate(img, cv2.ROTATE_180)\n",
    "cv2.imwrite('image5_rotate/lena_cv_rotate_180.jpg', img_rotate_180)\n",
    "# True"
   ]
  },
  {
   "cell_type": "code",
   "execution_count": null,
   "id": "4764c9c9",
   "metadata": {},
   "outputs": [],
   "source": []
  }
 ],
 "metadata": {
  "kernelspec": {
   "display_name": "Python 3",
   "language": "python",
   "name": "python3"
  },
  "language_info": {
   "codemirror_mode": {
    "name": "ipython",
    "version": 3
   },
   "file_extension": ".py",
   "mimetype": "text/x-python",
   "name": "python",
   "nbconvert_exporter": "python",
   "pygments_lexer": "ipython3",
   "version": "3.8.8"
  }
 },
 "nbformat": 4,
 "nbformat_minor": 5
}
