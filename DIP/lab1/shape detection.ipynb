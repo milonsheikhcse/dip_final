{
 "cells": [
  {
   "cell_type": "code",
   "execution_count": 30,
   "id": "def5efa5",
   "metadata": {},
   "outputs": [],
   "source": [
    "import cv2\n",
    "import numpy as np\n",
    "from matplotlib import pyplot as plt\n",
    "# reading image\n",
    "img = cv2.imread(\"shape.PNG\")\n",
    "# converting image into grayscale image\n",
    "gray = cv2.cvtColor(img, cv2.COLOR_BGR2GRAY)\n",
    "# setting threshold of gray image\n",
    "_, threshold = cv2.threshold(gray, 120, 255, cv2.THRESH_BINARY)\n",
    "# using a findContours() function\n",
    "contours, _ = cv2.findContours(threshold, cv2.RETR_TREE, cv2.CHAIN_APPROX_SIMPLE)\n",
    "i = 0\n",
    "# list for storing names of shapes\n",
    "for contour in contours:\n",
    "    if i == 0:\n",
    "        i = 1\n",
    "        continue\n",
    "        approx = cv2.approxPolyDP(contour, 0.01* cv2.arcLength(contour, True), True)\n",
    "        cv2.drawContours(img, [contour],0,(0,0,255),5)\n",
    "        \n",
    "        M = cv2.moments(contour)\n",
    "        if M['m00'] != 0.0:\n",
    "            x = int(M['m10']/M['m00'])\n",
    "            y = int(M['m01.']/M['m00'])\n",
    "            \n",
    "        if len(approx) == 3:\n",
    "            cv2.putText(img, 'Triangle', (x,y), cv2.FONT_HERSHEY_SIMPLEX,0.6, (255, 255, 30))\n",
    "        elif len(approx) == 4:\n",
    "            cv2.putText(img, 'Quadrilateral', (x,y), cv2.FONT_HERSHEY_SIMPLEX,0.6, (255, 255,30))\n",
    "        elif len(approx) == 5:\n",
    "            cv2.putText(img, 'Pentagon', (x,y), cv2.FONT_HERSHEY_SIMPLEX,0.6, (255, 255, 30))\n",
    "        elif len(approx) == 6:\n",
    "            cv2.putText(img, 'Hexagon', (x,y), cv2.FONT_HERSHEY_SIMPLEX,0.6, (255, 255, 30))\n",
    "        else:\n",
    "            \n",
    "            cv2.putText(img, 'Circle', (x,y), cv2.FONT_HERSHEY_SIMPLEX,0.6, (255, 255, 30))\n",
    "cv2.imshow(\"shapes\", img)\n",
    "cv2.waitKey(0)\n",
    "cv2.destroyAllWindows()"
   ]
  },
  {
   "cell_type": "code",
   "execution_count": 23,
   "id": "9731bf24",
   "metadata": {},
   "outputs": [
    {
     "ename": "ValueError",
     "evalue": "not enough values to unpack (expected 3, got 2)",
     "output_type": "error",
     "traceback": [
      "\u001b[1;31m---------------------------------------------------------------------------\u001b[0m",
      "\u001b[1;31mValueError\u001b[0m                                Traceback (most recent call last)",
      "\u001b[1;32m<ipython-input-23-e2a3bb094c38>\u001b[0m in \u001b[0;36m<module>\u001b[1;34m\u001b[0m\n\u001b[0;32m      6\u001b[0m \u001b[0mimg\u001b[0m \u001b[1;33m=\u001b[0m \u001b[0mcv2\u001b[0m\u001b[1;33m.\u001b[0m\u001b[0mimread\u001b[0m\u001b[1;33m(\u001b[0m\u001b[1;34m\"shape.PNG\"\u001b[0m\u001b[1;33m,\u001b[0m \u001b[0mcv2\u001b[0m\u001b[1;33m.\u001b[0m\u001b[0mIMREAD_GRAYSCALE\u001b[0m\u001b[1;33m)\u001b[0m\u001b[1;33m\u001b[0m\u001b[1;33m\u001b[0m\u001b[0m\n\u001b[0;32m      7\u001b[0m \u001b[0m_\u001b[0m\u001b[1;33m,\u001b[0m \u001b[0mthreshold\u001b[0m \u001b[1;33m=\u001b[0m \u001b[0mcv2\u001b[0m\u001b[1;33m.\u001b[0m\u001b[0mthreshold\u001b[0m\u001b[1;33m(\u001b[0m\u001b[0mimg\u001b[0m\u001b[1;33m,\u001b[0m \u001b[1;36m240\u001b[0m\u001b[1;33m,\u001b[0m \u001b[1;36m255\u001b[0m\u001b[1;33m,\u001b[0m \u001b[0mcv2\u001b[0m\u001b[1;33m.\u001b[0m\u001b[0mTHRESH_BINARY\u001b[0m\u001b[1;33m)\u001b[0m\u001b[1;33m\u001b[0m\u001b[1;33m\u001b[0m\u001b[0m\n\u001b[1;32m----> 8\u001b[1;33m \u001b[0m_\u001b[0m\u001b[1;33m,\u001b[0m \u001b[0mcontours\u001b[0m\u001b[1;33m,\u001b[0m \u001b[0m_\u001b[0m \u001b[1;33m=\u001b[0m \u001b[0mcv2\u001b[0m\u001b[1;33m.\u001b[0m\u001b[0mfindContours\u001b[0m\u001b[1;33m(\u001b[0m\u001b[0mthreshold\u001b[0m\u001b[1;33m,\u001b[0m \u001b[0mcv2\u001b[0m\u001b[1;33m.\u001b[0m\u001b[0mRETR_TREE\u001b[0m\u001b[1;33m,\u001b[0m \u001b[0mcv2\u001b[0m\u001b[1;33m.\u001b[0m\u001b[0mCHAIN_APPROX_SIMPLE\u001b[0m\u001b[1;33m)\u001b[0m\u001b[1;33m\u001b[0m\u001b[1;33m\u001b[0m\u001b[0m\n\u001b[0m\u001b[0;32m      9\u001b[0m \u001b[1;33m\u001b[0m\u001b[0m\n\u001b[0;32m     10\u001b[0m \u001b[1;32mfor\u001b[0m \u001b[0mcnt\u001b[0m \u001b[1;32min\u001b[0m \u001b[0mcontours\u001b[0m\u001b[1;33m:\u001b[0m\u001b[1;33m\u001b[0m\u001b[1;33m\u001b[0m\u001b[0m\n",
      "\u001b[1;31mValueError\u001b[0m: not enough values to unpack (expected 3, got 2)"
     ]
    }
   ],
   "source": [
    "import cv2\n",
    "import numpy as np\n",
    "\n",
    "font = cv2.FONT_HERSHEY_COMPLEX\n",
    "\n",
    "img = cv2.imread(\"shape.PNG\", cv2.IMREAD_GRAYSCALE)\n",
    "_, threshold = cv2.threshold(img, 240, 255, cv2.THRESH_BINARY)\n",
    "_, contours, _ = cv2.findContours(threshold, cv2.RETR_TREE, cv2.CHAIN_APPROX_SIMPLE)\n",
    "\n",
    "for cnt in contours:\n",
    "    approx = cv2.approxPolyDP(cnt, 0.01*cv2.arcLength(cnt, True), True)\n",
    "    cv2.drawContours(img, [approx], 0, (0), 5)\n",
    "    x = approx.ravel()[0]\n",
    "    y = approx.ravel()[1]\n",
    "\n",
    "    if len(approx) == 3:\n",
    "        cv2.putText(img, \"Triangle\", (x, y), font, 1, (0))\n",
    "    elif len(approx) == 4:\n",
    "        cv2.putText(img, \"Rectangle\", (x, y), font, 1, (0))\n",
    "    elif len(approx) == 5:\n",
    "        cv2.putText(img, \"Pentagon\", (x, y), font, 1, (0))\n",
    "    elif 6 < len(approx) < 15:\n",
    "        cv2.putText(img, \"Ellipse\", (x, y), font, 1, (0))\n",
    "    else:\n",
    "        cv2.putText(img, \"Circle\", (x, y), font, 1, (0))\n",
    "        \n",
    "cv2.imshow(\"shapes\", img)\n",
    "cv2.imshow(\"Threshold\", threshold)\n",
    "cv2.waitKey(0)\n",
    "cv2.destroyAllWindows()"
   ]
  },
  {
   "cell_type": "code",
   "execution_count": 29,
   "id": "230d8cf1",
   "metadata": {},
   "outputs": [
    {
     "name": "stderr",
     "output_type": "stream",
     "text": [
      "usage: ipykernel_launcher.py [-h] -i IMAGE\n",
      "ipykernel_launcher.py: error: the following arguments are required: -i/--image\n"
     ]
    },
    {
     "ename": "SystemExit",
     "evalue": "2",
     "output_type": "error",
     "traceback": [
      "An exception has occurred, use %tb to see the full traceback.\n",
      "\u001b[1;31mSystemExit\u001b[0m\u001b[1;31m:\u001b[0m 2\n"
     ]
    }
   ],
   "source": [
    "\n",
    "import argparse\n",
    "import imutils\n",
    "import cv2\n",
    "# construct the argument parse and parse the arguments\n",
    "ap = argparse.ArgumentParser()\n",
    "ap.add_argument(\"-i\", \"--image\", required=True, help=\"shape.PNG\")\n",
    "args = vars(ap.parse_args())\n",
    "\n",
    "image = cv2.imread(args[\"image\"])\n",
    "resized = imutils.resize(image, width=300)\n",
    "ratio = image.shape[0] / float(resized.shape[0])\n",
    "# convert the resized image to grayscale, blur it slightly,\n",
    "# and threshold it\n",
    "gray = cv2.cvtColor(resized, cv2.COLOR_BGR2GRAY)\n",
    "blurred = cv2.GaussianBlur(gray, (5, 5), 0)\n",
    "thresh = cv2.threshold(blurred, 60, 255, cv2.THRESH_BINARY)[1]\n",
    "# find contours in the thresholded image and initialize the\n",
    "# shape detector\n",
    "cnts = cv2.findContours(thresh.copy(), cv2.RETR_EXTERNAL, cv2.CHAIN_APPROX_SIMPLE)\n",
    "cnts = imutils.grab_contours(cnts)\n",
    "sd = ShapeDetector()\n",
    "\n",
    "for c in cnts:\n",
    "\t# compute the center of the contour, then detect the name of the\n",
    "\t# shape using only the contour\n",
    "\tM = cv2.moments(c)\n",
    "\tcX = int((M[\"m10\"] / M[\"m00\"]) * ratio)\n",
    "\tcY = int((M[\"m01\"] / M[\"m00\"]) * ratio)\n",
    "\tshape = sd.detect(c)\n",
    "\t# multiply the contour (x, y)-coordinates by the resize ratio,\n",
    "\t# then draw the contours and the name of the shape on the image\n",
    "\tc = c.astype(\"float\")\n",
    "\tc *= ratio\n",
    "\tc = c.astype(\"int\")\n",
    "\tcv2.drawContours(image, [c], -1, (0, 255, 0), 2)\n",
    "\tcv2.putText(image, shape, (cX, cY), cv2.FONT_HERSHEY_SIMPLEX,\n",
    "\t\t0.5, (255, 255, 255), 2)\n",
    "\t# show the output image\n",
    "\tcv2.imshow(\"Image\", image)\n",
    "\tcv2.waitKey(0)"
   ]
  },
  {
   "cell_type": "code",
   "execution_count": null,
   "id": "d5d77ed9",
   "metadata": {},
   "outputs": [],
   "source": []
  }
 ],
 "metadata": {
  "kernelspec": {
   "display_name": "Python 3",
   "language": "python",
   "name": "python3"
  },
  "language_info": {
   "codemirror_mode": {
    "name": "ipython",
    "version": 3
   },
   "file_extension": ".py",
   "mimetype": "text/x-python",
   "name": "python",
   "nbconvert_exporter": "python",
   "pygments_lexer": "ipython3",
   "version": "3.8.8"
  }
 },
 "nbformat": 4,
 "nbformat_minor": 5
}
