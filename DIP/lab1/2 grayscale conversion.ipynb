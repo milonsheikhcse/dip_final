{
 "cells": [
  {
   "cell_type": "markdown",
   "id": "8fa50b74",
   "metadata": {},
   "source": [
    "Grayscaling is the process of converting an image from other color spaces e.g. RGB, CMYK, HSV, etc. to shades of gray. It varies between complete black and complete white.\n",
    "###### https://dev-akash.github.io/posts/how-to-convert-color-image-to-grayscale-in-opencv-with-python.html"
   ]
  },
  {
   "cell_type": "code",
   "execution_count": 8,
   "id": "6dee66c4",
   "metadata": {},
   "outputs": [],
   "source": [
    "# import opencv module\n",
    "import cv2\n",
    " \n",
    "# Load the input image\n",
    "image = cv2.imread('image2/hitlar.JPG')\n",
    "cv2.imshow('Original', image)\n",
    "cv2.waitKey(0)\n",
    " \n",
    "# Use the cvtColor() function to grayscale the image\n",
    "gray_image = cv2.cvtColor(image, cv2.COLOR_BGR2GRAY)\n",
    " \n",
    "cv2.imshow('Grayscale', gray_image)\n",
    "\n",
    "\n",
    "cv2.waitKey(0) \n",
    " \n",
    "# Window shown waits for any key pressing event\n",
    "\n",
    "cv2.destroyAllWindows()"
   ]
  },
  {
   "cell_type": "code",
   "execution_count": 7,
   "id": "d565c419",
   "metadata": {},
   "outputs": [],
   "source": [
    "# use only imread_grayscale\n",
    "import cv2\n",
    "\n",
    "# Reading color image as grayscale\n",
    "gray = cv2.imread(\"image2/hitlar.JPG\",0)\n",
    "\n",
    "# Showing grayscale image\n",
    "cv2.imshow(\"Grayscale Image\", gray)\n",
    "\n",
    "\n",
    "\n",
    "# waiting for key event\n",
    "cv2.waitKey(0)\n",
    "\n",
    "# destroying all windows\n",
    "cv2.destroyAllWindows()"
   ]
  },
  {
   "cell_type": "code",
   "execution_count": null,
   "id": "d6e8820f",
   "metadata": {},
   "outputs": [],
   "source": []
  }
 ],
 "metadata": {
  "kernelspec": {
   "display_name": "Python 3",
   "language": "python",
   "name": "python3"
  },
  "language_info": {
   "codemirror_mode": {
    "name": "ipython",
    "version": 3
   },
   "file_extension": ".py",
   "mimetype": "text/x-python",
   "name": "python",
   "nbconvert_exporter": "python",
   "pygments_lexer": "ipython3",
   "version": "3.8.8"
  }
 },
 "nbformat": 4,
 "nbformat_minor": 5
}
