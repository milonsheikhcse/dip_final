{
 "cells": [
  {
   "cell_type": "code",
   "execution_count": null,
   "id": "2a0434c9",
   "metadata": {},
   "outputs": [],
   "source": [
    "# scalling or resize\n",
    "import numpy as np\n",
    "import cv2\n",
    "\n",
    "img = cv2.imread('image/hitlar.JPG', 1)\n",
    "cv2.imshow('Original', img)\n",
    "\n",
    "\n",
    "\n",
    "img_half = cv2.resize(img, (0, 0), fx=.5, fy=0.5)\n",
    "cv2.imshow('Half Image', img_half)\n",
    "\n",
    "cv2.waitKey(0)\n",
    "cv2.destroyAllWindows()\n"
   ]
  },
  {
   "cell_type": "code",
   "execution_count": null,
   "id": "af4d3f74",
   "metadata": {},
   "outputs": [],
   "source": []
  }
 ],
 "metadata": {
  "kernelspec": {
   "display_name": "Python 3",
   "language": "python",
   "name": "python3"
  },
  "language_info": {
   "codemirror_mode": {
    "name": "ipython",
    "version": 3
   },
   "file_extension": ".py",
   "mimetype": "text/x-python",
   "name": "python",
   "nbconvert_exporter": "python",
   "pygments_lexer": "ipython3",
   "version": "3.8.8"
  }
 },
 "nbformat": 4,
 "nbformat_minor": 5
}
