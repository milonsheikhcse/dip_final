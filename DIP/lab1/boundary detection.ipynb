{
 "cells": [
  {
   "cell_type": "code",
   "execution_count": null,
   "id": "1ec883a0",
   "metadata": {},
   "outputs": [],
   "source": [
    "import cv2;\n",
    "import numpy as np;\n",
    "\n",
    "# Read image\n",
    "im_in = cv2.imread(\"boundary.PNG\", cv2.IMREAD_GRAYSCALE);\n",
    "\n",
    "# Threshold.\n",
    "# Set values equal to or above 220 to 0.\n",
    "# Set values below 220 to 255.\n",
    "\n",
    "th, im_th = cv2.threshold(im_in, 220, 255, cv2.THRESH_BINARY_INV);\n",
    "\n",
    "# Copy the thresholded image.\n",
    "im_floodfill = im_th.copy()\n",
    "\n",
    "# Mask used to flood filling.\n",
    "# Notice the size needs to be 2 pixels than the image.\n",
    "h, w = im_th.shape[:2]\n",
    "mask = np.zeros((h+2, w+2), np.uint8)\n",
    "\n",
    "# Floodfill from point (0, 0)\n",
    "cv2.floodFill(im_floodfill, mask, (0,0), 255);\n",
    "\n",
    "# Invert floodfilled image\n",
    "im_floodfill_inv = cv2.bitwise_not(im_floodfill)\n",
    "\n",
    "# Combine the two images to get the foreground.\n",
    "im_out = im_th | im_floodfill_inv\n",
    "\n",
    "# Display images.\n",
    "cv2.imshow(\"Thresholded Image\", im_th)\n",
    "cv2.imshow(\"Floodfilled Image\", im_floodfill)\n",
    "cv2.imshow(\"Inverted Floodfilled Image\", im_floodfill_inv)\n",
    "cv2.imshow(\"Foreground\", im_out)\n",
    "cv2.waitKey(0)"
   ]
  },
  {
   "cell_type": "code",
   "execution_count": null,
   "id": "9c7e612b",
   "metadata": {},
   "outputs": [],
   "source": []
  }
 ],
 "metadata": {
  "kernelspec": {
   "display_name": "Python 3",
   "language": "python",
   "name": "python3"
  },
  "language_info": {
   "codemirror_mode": {
    "name": "ipython",
    "version": 3
   },
   "file_extension": ".py",
   "mimetype": "text/x-python",
   "name": "python",
   "nbconvert_exporter": "python",
   "pygments_lexer": "ipython3",
   "version": "3.8.8"
  }
 },
 "nbformat": 4,
 "nbformat_minor": 5
}
