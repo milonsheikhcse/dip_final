{
 "cells": [
  {
   "cell_type": "markdown",
   "id": "84da9b9e",
   "metadata": {},
   "source": [
    "tx denotes the shift along the x-axis and ty denotes shift along the y-axis <br>\n",
    "[1 o tx] <br>\n",
    "[0 1 ty] <br>\n",
    "\n",
    "https://www.geeksforgeeks.org/image-translation-using-opencv-python/#_=_"
   ]
  },
  {
   "cell_type": "code",
   "execution_count": 1,
   "id": "df81d639",
   "metadata": {},
   "outputs": [],
   "source": [
    "import cv2\n",
    "import numpy as np\n",
    "\n",
    "image = cv2.imread(\"image/hitlar.JPG\")\n",
    "\n",
    "# Store height and width of the image\n",
    "height, width = image.shape[:2]\n",
    "\n",
    "quarter_height, quarter_width = height / 2, width / 2\n",
    "T = np.float32([[1, 0, quarter_width], [0, 1, quarter_height]])\n",
    "\n",
    "# We use warpAffine to transform\n",
    "# the image using the matrix, T\n",
    "img_translation = cv2.warpAffine(image, T, (width, height))\n",
    "\n",
    "cv2.imshow(\"Originalimage\", image)\n",
    "cv2.imshow('Translation', img_translation)\n",
    "\n",
    "cv2.waitKey()\n",
    "cv2.destroyAllWindows()"
   ]
  },
  {
   "cell_type": "code",
   "execution_count": null,
   "id": "b59216cf",
   "metadata": {},
   "outputs": [],
   "source": []
  }
 ],
 "metadata": {
  "kernelspec": {
   "display_name": "Python 3",
   "language": "python",
   "name": "python3"
  },
  "language_info": {
   "codemirror_mode": {
    "name": "ipython",
    "version": 3
   },
   "file_extension": ".py",
   "mimetype": "text/x-python",
   "name": "python",
   "nbconvert_exporter": "python",
   "pygments_lexer": "ipython3",
   "version": "3.8.8"
  }
 },
 "nbformat": 4,
 "nbformat_minor": 5
}
