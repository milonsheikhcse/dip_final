{
 "cells": [
  {
   "cell_type": "code",
   "execution_count": null,
   "metadata": {},
   "outputs": [
    {
     "data": {
      "image/png": "[encoded data removed]",
      "text/plain": [
       "<Figure size 432x288 with 1 Axes>"
      ]
     },
     "metadata": {
      "needs_background": "light"
     },
     "output_type": "display_data"
    }
   ],
   "source": [
    "import cv2\n",
    "import numpy as np\n",
    "\n",
    "image = cv2.imread(\"hitlar.JPG\")\n",
    "gray_image = cv2.cvtColor(image, cv2.COLOR_BGR2GRAY)\n",
    "from matplotlib import pyplot as plt\n",
    "\n",
    "plt.hist(image.ravel(),256,[0,256]) \n",
    "\n",
    "plt.show() \n",
    "#plt.savefig('hist.png')\n",
    "\n",
    "equ = cv2.equalizeHist(gray_image)\n",
    "res = np.hstack((gray_image,equ))\n",
    "\n",
    "cv2.imshow('Equalized Image',res)\n",
    "cv2.waitKey(0)\n",
    "cv2.destroyAllWindows()\n",
    "#cv2.imwrite('Equalized Image.png',res)\n",
    "\n",
    "plt.hist(res.ravel(),256,[0,256]) \n",
    "\n",
    "plt.show() \n",
    "#plt.savefig('equal-hist.png')"
   ]
  },
  {
   "cell_type": "code",
   "execution_count": null,
   "metadata": {},
   "outputs": [],
   "source": []
  }
 ],
 "metadata": {
  "kernelspec": {
   "display_name": "Python 3",
   "language": "python",
   "name": "python3"
  },
  "language_info": {
   "codemirror_mode": {
    "name": "ipython",
    "version": 3
   },
   "file_extension": ".py",
   "mimetype": "text/x-python",
   "name": "python",
   "nbconvert_exporter": "python",
   "pygments_lexer": "ipython3",
   "version": "3.8.8"
  }
 },
 "nbformat": 4,
 "nbformat_minor": 4
}
