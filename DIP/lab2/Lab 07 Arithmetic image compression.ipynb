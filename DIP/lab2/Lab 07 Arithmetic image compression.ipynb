{
 "cells": [
  {
   "cell_type": "code",
   "execution_count": null,
   "metadata": {
    "scrolled": true
   },
   "outputs": [],
   "source": [
    "import cv2\n",
    "#import encode\n",
    "#import decode\n",
    "import numpy as np\n",
    "from collections import Counter\n",
    "\n",
    "\n",
    "img = cv2.imread(\"lineImage.PNG\")\n",
    "block_size = int(input(\"Enter block size: \"))\n",
    "float_type = input(\"Enter float type (e.g. 'float16'): \")\n",
    "n = img.shape[0]\n",
    "m = img.shape[1]\n",
    "print(\"shape of the image: (i.e. ex1.jpeg)\")\n",
    "print(img.shape)\n",
    "\n",
    "# jsut to be sure that is the image is a grayscale\n",
    "gray = cv2.cvtColor(img, cv2.COLOR_BGR2GRAY)\n",
    "pixels = np.array(gray.flatten())\n",
    "# append zeros to be divisible by the block_size\n",
    "additional_pixels = 0\n",
    "while pixels.shape[0] % block_size != 0:\n",
    "    pixels = np.append(pixels, 0)\n",
    "    additional_pixels += 1\n",
    "\n",
    "length = pixels.shape[0]\n",
    "freq = Counter(pixels)\n",
    "probs = {}\n",
    "for key in freq.keys():\n",
    "    probs[key] = freq[key]/length\n",
    "\n",
    "start = 0\n",
    "probs_limits = {}\n",
    "for key in probs.keys():\n",
    "    probs_limits[key] = start, start+probs[key]\n",
    "    start += probs[key]\n",
    "\n",
    "np.save(\"probabilities.npy\", probs_limits)\n",
    "print(\"Processing input and calculating probabilities: Done!\")\n",
    "encode.encode_image(pixels, block_size, probs_limits, float_type)\n",
    "# additonal pixels is zeros to make the array divisible by block_size so I need to handle it in decoding also\n",
    "decode.decode_image(\"encoded_array\", n, m, block_size, probs_limits, additional_pixels)"
   ]
  },
  {
   "cell_type": "code",
   "execution_count": null,
   "metadata": {},
   "outputs": [],
   "source": [
    "\n"
   ]
  }
 ],
 "metadata": {
  "kernelspec": {
   "display_name": "Python 3",
   "language": "python",
   "name": "python3"
  },
  "language_info": {
   "codemirror_mode": {
    "name": "ipython",
    "version": 3
   },
   "file_extension": ".py",
   "mimetype": "text/x-python",
   "name": "python",
   "nbconvert_exporter": "python",
   "pygments_lexer": "ipython3",
   "version": "3.8.8"
  }
 },
 "nbformat": 4,
 "nbformat_minor": 4
}
